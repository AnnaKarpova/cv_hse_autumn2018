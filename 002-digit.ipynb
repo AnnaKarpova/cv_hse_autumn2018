{
 "cells": [
  {
   "cell_type": "markdown",
   "metadata": {},
   "source": [
    "## Digit Recognizer\n",
    "https://www.kaggle.com/c/digit-recognizer"
   ]
  },
  {
   "cell_type": "code",
   "execution_count": 1,
   "metadata": {
    "scrolled": true
   },
   "outputs": [
    {
     "name": "stderr",
     "output_type": "stream",
     "text": [
      "/home/anna/anaconda3/envs/python3/lib/python3.6/site-packages/seaborn/apionly.py:6: UserWarning: As seaborn no longer sets a default style on import, the seaborn.apionly module is deprecated. It will be removed in a future version.\n",
      "  warnings.warn(msg, UserWarning)\n"
     ]
    }
   ],
   "source": [
    "%matplotlib inline\n",
    "import cv2\n",
    "import numpy as np\n",
    "import matplotlib.pyplot as plt\n",
    "import seaborn.apionly as sn"
   ]
  },
  {
   "cell_type": "code",
   "execution_count": 2,
   "metadata": {
    "collapsed": true
   },
   "outputs": [],
   "source": [
    "import pandas as pd"
   ]
  },
  {
   "cell_type": "markdown",
   "metadata": {},
   "source": [
    "## Загружаем исходные данные"
   ]
  },
  {
   "cell_type": "code",
   "execution_count": 3,
   "metadata": {
    "collapsed": true
   },
   "outputs": [],
   "source": [
    "train = np.loadtxt('./data/digit/train.csv', delimiter=',', skiprows=1)\n",
    "test = np.loadtxt('./data/digit/test.csv', delimiter=',', skiprows=1)"
   ]
  },
  {
   "cell_type": "code",
   "execution_count": 4,
   "metadata": {
    "collapsed": true
   },
   "outputs": [],
   "source": [
    "# сохраняем разметку в отдельную переменную\n",
    "train_label = train[:, 0]\n",
    "# приводим размерность к удобному для обаботки виду\n",
    "train_img = np.resize(train[:, 1:], (train.shape[0], 28, 28))\n",
    "test_img = np.resize(test, (test.shape[0], 28, 28))"
   ]
  },
  {
   "cell_type": "code",
   "execution_count": 5,
   "metadata": {
    "collapsed": true
   },
   "outputs": [],
   "source": [
    "del train\n",
    "del test"
   ]
  },
  {
   "cell_type": "code",
   "execution_count": 6,
   "metadata": {},
   "outputs": [
    {
     "data": {
      "text/plain": [
       "(42000, 28, 28)"
      ]
     },
     "execution_count": 6,
     "metadata": {},
     "output_type": "execute_result"
    }
   ],
   "source": [
    "train_img.shape"
   ]
  },
  {
   "cell_type": "markdown",
   "metadata": {},
   "source": [
    "## Визуализируем исходные данные"
   ]
  },
  {
   "cell_type": "code",
   "execution_count": 7,
   "metadata": {},
   "outputs": [
    {
     "data": {
      "image/png": "[encoded data removed]",
      "text/plain": [
       "<matplotlib.figure.Figure at 0x7f8bd4d8eeb8>"
      ]
     },
     "metadata": {},
     "output_type": "display_data"
    }
   ],
   "source": [
    "fig = plt.figure(figsize=(20, 10))\n",
    "for i, img in enumerate(train_img[0:5], 1):\n",
    "    subplot = fig.add_subplot(1, 5, i)\n",
    "    plt.imshow(img, cmap='gray');\n",
    "    subplot.set_title('%s' % train_label[i - 1]);"
   ]
  },
  {
   "cell_type": "code",
   "execution_count": 8,
   "metadata": {},
   "outputs": [],
   "source": [
    "SZ=28\n",
    "\n",
    "for i, img in enumerate(train_img):\n",
    "    m=cv2.moments(img)\n",
    "    skew = m['mu11']/m['mu02']\n",
    "    M = np.float32([[1, skew, -0.5*SZ*skew], [0, 1, 0]])\n",
    "    img2 = cv2.warpAffine(img, M, (SZ, SZ), flags=cv2.WARP_INVERSE_MAP | cv2.INTER_LINEAR)\n",
    "    train_img[i]=img2\n",
    "    m2=cv2.moments(img2)\n",
    "    skew2 = m2['mu11']/m2['mu02']"
   ]
  },
  {
   "cell_type": "code",
   "execution_count": 9,
   "metadata": {
    "collapsed": true
   },
   "outputs": [],
   "source": [
    "for i, img in enumerate(train_img):\n",
    "    blur = cv2.GaussianBlur(img,(3,3),0)\n",
    "    train_img[i]=blur"
   ]
  },
  {
   "cell_type": "code",
   "execution_count": 10,
   "metadata": {
    "scrolled": true
   },
   "outputs": [
    {
     "data": {
      "image/png": "[encoded data removed]",
      "text/plain": [
       "<matplotlib.figure.Figure at 0x7f8be4abeb38>"
      ]
     },
     "metadata": {},
     "output_type": "display_data"
    }
   ],
   "source": [
    "fig = plt.figure(figsize=(20, 10))\n",
    "for i, img in enumerate(train_img[0:5]):\n",
    "    subplot = fig.add_subplot(1, 5, i+1)\n",
    "    plt.imshow(img, cmap='gray');\n",
    "    subplot.set_title('%s' % train_label[i]);"
   ]
  },
  {
   "cell_type": "code",
   "execution_count": 11,
   "metadata": {
    "collapsed": true
   },
   "outputs": [],
   "source": [
    "SZ=28\n",
    "\n",
    "for i, img in enumerate(test_img):\n",
    "    m=cv2.moments(img)\n",
    "    skew = m['mu11']/m['mu02']\n",
    "    M = np.float32([[1, skew, -0.5*SZ*skew], [0, 1, 0]])\n",
    "    img2 = cv2.warpAffine(img, M, (SZ, SZ), flags=cv2.WARP_INVERSE_MAP | cv2.INTER_LINEAR)\n",
    "    test_img[i]=img2\n",
    "    m2=cv2.moments(img2)\n",
    "    skew2 = m2['mu11']/m2['mu02']"
   ]
  },
  {
   "cell_type": "code",
   "execution_count": 12,
   "metadata": {
    "collapsed": true
   },
   "outputs": [],
   "source": [
    "for i, img in enumerate(test_img):\n",
    "    blur = cv2.GaussianBlur(img,(3,3),0)\n",
    "    test_img[i]=blur"
   ]
  },
  {
   "cell_type": "code",
   "execution_count": 13,
   "metadata": {
    "collapsed": true
   },
   "outputs": [],
   "source": [
    "from sklearn.neighbors import KNeighborsClassifier\n",
    "from sklearn.decomposition import PCA\n",
    "from sklearn.metrics import confusion_matrix\n",
    "from sklearn.model_selection import train_test_split"
   ]
  },
  {
   "cell_type": "code",
   "execution_count": 16,
   "metadata": {
    "collapsed": true
   },
   "outputs": [],
   "source": [
    "def evaluate_classifier(clf, data, target, split_ratio):\n",
    "    trainX, testX, trainY, testY = train_test_split(data, target, train_size=split_ratio, random_state=0)\n",
    "    clf.fit(trainX, trainY)\n",
    "    return clf.score(testX,testY)"
   ]
  },
  {
   "cell_type": "code",
   "execution_count": 14,
   "metadata": {
    "collapsed": true
   },
   "outputs": [],
   "source": [
    "train_img_flatten=train_img.reshape(42000,-1)"
   ]
  },
  {
   "cell_type": "code",
   "execution_count": 15,
   "metadata": {
    "collapsed": true
   },
   "outputs": [],
   "source": [
    "test_img_flatten=test_img.reshape(28000,-1)"
   ]
  },
  {
   "cell_type": "code",
   "execution_count": 19,
   "metadata": {},
   "outputs": [
    {
     "name": "stderr",
     "output_type": "stream",
     "text": [
      "/home/anna/anaconda3/envs/python3/lib/python3.6/site-packages/sklearn/model_selection/_split.py:2010: FutureWarning: From version 0.21, test_size will always complement train_size unless both are specified.\n",
      "  FutureWarning)\n"
     ]
    }
   ],
   "source": [
    "clf = KNeighborsClassifier()\n",
    "n_components_array=([1,2,3,4,5,10,20,50,100,200,500])\n",
    "score_array = np.zeros(len(n_components_array))\n",
    "\n",
    "\n",
    "for i, n_components in enumerate(n_components_array):\n",
    "    pca = PCA(n_components=n_components)\n",
    "    pca.fit(train_img_flatten)\n",
    "    transform = pca.transform(train_img_flatten)\n",
    "    score_array[i] = evaluate_classifier(clf, transform, train_label.tolist(), 0.8)\n",
    "    "
   ]
  },
  {
   "cell_type": "code",
   "execution_count": 20,
   "metadata": {
    "scrolled": false
   },
   "outputs": [
    {
     "data": {
      "image/png": "[encoded data removed]",
      "text/plain": [
       "<matplotlib.figure.Figure at 0x7ff40e834c50>"
      ]
     },
     "metadata": {},
     "output_type": "display_data"
    }
   ],
   "source": [
    "plt.figure(figsize=(10,5))\n",
    "plt.plot(n_components_array,score_array,'k.-')\n",
    "plt.xscale('log')\n",
    "plt.xlabel(\"number of PCA components\", size=20)\n",
    "plt.ylabel(\"accuracy\", size=20)\n",
    "plt.grid(which=\"both\")"
   ]
  },
  {
   "cell_type": "code",
   "execution_count": 16,
   "metadata": {
    "collapsed": true
   },
   "outputs": [],
   "source": [
    "pca = PCA(n_components=50)\n",
    "pca.fit(train_img_flatten)\n",
    "transform_train = pca.transform(train_img_flatten)\n",
    "transform_test = pca.transform(test_img_flatten)\n",
    "\n",
    "clf = KNeighborsClassifier()\n",
    "clf.fit(transform_train,train_label)\n",
    "train_predictions=clf.predict(transform_train)\n",
    "results=clf.predict(transform_test)\n"
   ]
  },
  {
   "cell_type": "code",
   "execution_count": 17,
   "metadata": {},
   "outputs": [
    {
     "data": {
      "text/plain": [
       "<matplotlib.axes._subplots.AxesSubplot at 0x7f8be3b089b0>"
      ]
     },
     "execution_count": 17,
     "metadata": {},
     "output_type": "execute_result"
    },
    {
     "data": {
      "image/png": "[encoded data removed]",
      "text/plain": [
       "<matplotlib.figure.Figure at 0x7f8be35d9860>"
      ]
     },
     "metadata": {},
     "output_type": "display_data"
    }
   ],
   "source": [
    "conf_array = confusion_matrix(train_label, train_predictions)\n",
    "conf_df = pd.DataFrame(conf_array, index = range(10), columns = range(10))\n",
    "plt.figure(figsize = (10, 10))\n",
    "sn.heatmap(conf_df, annot=True, cmap=sn.cubehelix_palette(10))"
   ]
  },
  {
   "cell_type": "code",
   "execution_count": 18,
   "metadata": {
    "collapsed": true
   },
   "outputs": [],
   "source": [
    "np.savetxt('results_clf.csv', \n",
    "           np.c_[range(1,len(transform_test)+1),results], \n",
    "           delimiter=',', \n",
    "           header = 'ImageId,Label', \n",
    "           comments = '', \n",
    "           fmt='%d')\n",
    "\n",
    "# Kaggle score 0.98228"
   ]
  },
  {
   "cell_type": "markdown",
   "metadata": {},
   "source": [
    "## Обучаем нейронную сеть"
   ]
  },
  {
   "cell_type": "code",
   "execution_count": 19,
   "metadata": {},
   "outputs": [
    {
     "name": "stderr",
     "output_type": "stream",
     "text": [
      "Using Theano backend.\n"
     ]
    }
   ],
   "source": [
    "import keras"
   ]
  },
  {
   "cell_type": "code",
   "execution_count": 20,
   "metadata": {},
   "outputs": [],
   "source": [
    "model = keras.models.Sequential()\n",
    "\n",
    "model.add(keras.layers.Dense(32,\n",
    "                             input_dim=transform_train.shape[1],\n",
    "                             activation='relu',\n",
    "                            kernel_initializer ='random_normal',\n",
    "                            kernel_regularizer=keras.regularizers.l2(0.01)))\n",
    "\n",
    "model.add(keras.layers.Dense(32, activation='relu'))\n",
    "\n",
    "model.add(keras.layers.Dense(10, activation='softmax'))\n",
    "model.compile(optimizer='adadelta',\n",
    "              loss='categorical_crossentropy',\n",
    "              metrics=['accuracy'])"
   ]
  },
  {
   "cell_type": "code",
   "execution_count": 21,
   "metadata": {
    "scrolled": true
   },
   "outputs": [
    {
     "name": "stdout",
     "output_type": "stream",
     "text": [
      "_________________________________________________________________\n",
      "Layer (type)                 Output Shape              Param #   \n",
      "=================================================================\n",
      "dense_1 (Dense)              (None, 32)                1632      \n",
      "_________________________________________________________________\n",
      "dense_2 (Dense)              (None, 32)                1056      \n",
      "_________________________________________________________________\n",
      "dense_3 (Dense)              (None, 10)                330       \n",
      "=================================================================\n",
      "Total params: 3,018\n",
      "Trainable params: 3,018\n",
      "Non-trainable params: 0\n",
      "_________________________________________________________________\n"
     ]
    }
   ],
   "source": [
    "model.summary()"
   ]
  },
  {
   "cell_type": "code",
   "execution_count": 22,
   "metadata": {
    "collapsed": true
   },
   "outputs": [],
   "source": [
    "from keras.utils import np_utils\n",
    "y_train_labels = np_utils.to_categorical(train_label)"
   ]
  },
  {
   "cell_type": "code",
   "execution_count": 23,
   "metadata": {
    "scrolled": true
   },
   "outputs": [
    {
     "name": "stdout",
     "output_type": "stream",
     "text": [
      "Train on 33600 samples, validate on 8400 samples\n",
      "Epoch 1/100\n",
      "33600/33600 [==============================] - 0s - loss: 4.2037 - acc: 0.6885 - val_loss: 2.3989 - val_acc: 0.8201\n",
      "Epoch 2/100\n",
      "33600/33600 [==============================] - 0s - loss: 2.2950 - acc: 0.8323 - val_loss: 2.1316 - val_acc: 0.8463\n",
      "Epoch 3/100\n",
      "33600/33600 [==============================] - 0s - loss: 2.0935 - acc: 0.8514 - val_loss: 2.0215 - val_acc: 0.8552\n",
      "Epoch 4/100\n",
      "33600/33600 [==============================] - 0s - loss: 1.9914 - acc: 0.8596 - val_loss: 1.9750 - val_acc: 0.8574\n",
      "Epoch 5/100\n",
      "33600/33600 [==============================] - 0s - loss: 1.9292 - acc: 0.8646 - val_loss: 1.9288 - val_acc: 0.8638\n",
      "Epoch 6/100\n",
      "33600/33600 [==============================] - 0s - loss: 1.8800 - acc: 0.8688 - val_loss: 1.9182 - val_acc: 0.8635\n",
      "Epoch 7/100\n",
      "33600/33600 [==============================] - 0s - loss: 1.8484 - acc: 0.8718 - val_loss: 1.9041 - val_acc: 0.8657\n",
      "Epoch 8/100\n",
      "33600/33600 [==============================] - 0s - loss: 1.8252 - acc: 0.8740 - val_loss: 1.8844 - val_acc: 0.8673\n",
      "Epoch 9/100\n",
      "33600/33600 [==============================] - 0s - loss: 1.8059 - acc: 0.8759 - val_loss: 1.8756 - val_acc: 0.8670\n",
      "Epoch 10/100\n",
      "33600/33600 [==============================] - 0s - loss: 1.7910 - acc: 0.8776 - val_loss: 1.8644 - val_acc: 0.8675\n",
      "Epoch 11/100\n",
      "33600/33600 [==============================] - 0s - loss: 1.7768 - acc: 0.8787 - val_loss: 1.8515 - val_acc: 0.8690\n",
      "Epoch 12/100\n",
      "33600/33600 [==============================] - 0s - loss: 1.7652 - acc: 0.8805 - val_loss: 1.8573 - val_acc: 0.8698\n",
      "Epoch 13/100\n",
      "33600/33600 [==============================] - 0s - loss: 1.7555 - acc: 0.8814 - val_loss: 1.8503 - val_acc: 0.8702\n",
      "Epoch 14/100\n",
      "33600/33600 [==============================] - 0s - loss: 1.7466 - acc: 0.8822 - val_loss: 1.8374 - val_acc: 0.8699\n",
      "Epoch 15/100\n",
      "33600/33600 [==============================] - 0s - loss: 1.7360 - acc: 0.8837 - val_loss: 1.8366 - val_acc: 0.8711\n",
      "Epoch 16/100\n",
      "33600/33600 [==============================] - 0s - loss: 1.7293 - acc: 0.8834 - val_loss: 1.8307 - val_acc: 0.8707\n",
      "Epoch 17/100\n",
      "33600/33600 [==============================] - 0s - loss: 1.7209 - acc: 0.8843 - val_loss: 1.8270 - val_acc: 0.8723\n",
      "Epoch 18/100\n",
      "33600/33600 [==============================] - 0s - loss: 1.7147 - acc: 0.8855 - val_loss: 1.8184 - val_acc: 0.8731\n",
      "Epoch 19/100\n",
      "33600/33600 [==============================] - 0s - loss: 1.7106 - acc: 0.8861 - val_loss: 1.8228 - val_acc: 0.8710\n",
      "Epoch 20/100\n",
      "33600/33600 [==============================] - 0s - loss: 1.7072 - acc: 0.8861 - val_loss: 1.8105 - val_acc: 0.8724\n",
      "Epoch 21/100\n",
      "33600/33600 [==============================] - 0s - loss: 1.7019 - acc: 0.8871 - val_loss: 1.8111 - val_acc: 0.8713\n",
      "Epoch 22/100\n",
      "33600/33600 [==============================] - 0s - loss: 1.6975 - acc: 0.8878 - val_loss: 1.8008 - val_acc: 0.8733\n",
      "Epoch 23/100\n",
      "33600/33600 [==============================] - 0s - loss: 1.6942 - acc: 0.8873 - val_loss: 1.8063 - val_acc: 0.8714\n",
      "Epoch 24/100\n",
      "33600/33600 [==============================] - 0s - loss: 1.6898 - acc: 0.8888 - val_loss: 1.7977 - val_acc: 0.8721\n",
      "Epoch 25/100\n",
      "33600/33600 [==============================] - 0s - loss: 1.6882 - acc: 0.8884 - val_loss: 1.8028 - val_acc: 0.8726\n",
      "Epoch 26/100\n",
      "33600/33600 [==============================] - 0s - loss: 1.6859 - acc: 0.8890 - val_loss: 1.7869 - val_acc: 0.8735\n",
      "Epoch 27/100\n",
      "33600/33600 [==============================] - 0s - loss: 1.6824 - acc: 0.8894 - val_loss: 1.7882 - val_acc: 0.8721\n",
      "Epoch 28/100\n",
      "33600/33600 [==============================] - 0s - loss: 1.6793 - acc: 0.8898 - val_loss: 1.7892 - val_acc: 0.8744\n",
      "Epoch 29/100\n",
      "33600/33600 [==============================] - 0s - loss: 1.3226 - acc: 0.9040 - val_loss: 0.3904 - val_acc: 0.9427\n",
      "Epoch 30/100\n",
      "33600/33600 [==============================] - 0s - loss: 0.2281 - acc: 0.9640 - val_loss: 0.2850 - val_acc: 0.9554\n",
      "Epoch 31/100\n",
      "33600/33600 [==============================] - 0s - loss: 0.1796 - acc: 0.9696 - val_loss: 0.2559 - val_acc: 0.9580\n",
      "Epoch 32/100\n",
      "33600/33600 [==============================] - 0s - loss: 0.1555 - acc: 0.9726 - val_loss: 0.2287 - val_acc: 0.9605\n",
      "Epoch 33/100\n",
      "33600/33600 [==============================] - 0s - loss: 0.1400 - acc: 0.9742 - val_loss: 0.2219 - val_acc: 0.9619\n",
      "Epoch 34/100\n",
      "33600/33600 [==============================] - 0s - loss: 0.1318 - acc: 0.9758 - val_loss: 0.2183 - val_acc: 0.9617\n",
      "Epoch 35/100\n",
      "33600/33600 [==============================] - 0s - loss: 0.1238 - acc: 0.9766 - val_loss: 0.2099 - val_acc: 0.9640\n",
      "Epoch 36/100\n",
      "33600/33600 [==============================] - 0s - loss: 0.1169 - acc: 0.9780 - val_loss: 0.2064 - val_acc: 0.9661\n",
      "Epoch 37/100\n",
      "33600/33600 [==============================] - 0s - loss: 0.1110 - acc: 0.9784 - val_loss: 0.2012 - val_acc: 0.9650\n",
      "Epoch 38/100\n",
      "33600/33600 [==============================] - 0s - loss: 0.1052 - acc: 0.9785 - val_loss: 0.2035 - val_acc: 0.9642\n",
      "Epoch 39/100\n",
      "33600/33600 [==============================] - 0s - loss: 0.1007 - acc: 0.9798 - val_loss: 0.2019 - val_acc: 0.9643\n",
      "Epoch 40/100\n",
      "33600/33600 [==============================] - 0s - loss: 0.0985 - acc: 0.9797 - val_loss: 0.2004 - val_acc: 0.9646\n",
      "Epoch 41/100\n",
      "33600/33600 [==============================] - 0s - loss: 0.0957 - acc: 0.9802 - val_loss: 0.2040 - val_acc: 0.9645\n",
      "Epoch 42/100\n",
      "33600/33600 [==============================] - 0s - loss: 0.0927 - acc: 0.9809 - val_loss: 0.1914 - val_acc: 0.9658\n",
      "Epoch 43/100\n",
      "33600/33600 [==============================] - 0s - loss: 0.0911 - acc: 0.9815 - val_loss: 0.1978 - val_acc: 0.9637\n",
      "Epoch 44/100\n",
      "33600/33600 [==============================] - 0s - loss: 0.0877 - acc: 0.9817 - val_loss: 0.1931 - val_acc: 0.9677\n",
      "Epoch 45/100\n",
      "33600/33600 [==============================] - 0s - loss: 0.0861 - acc: 0.9825 - val_loss: 0.1887 - val_acc: 0.9661\n",
      "Epoch 46/100\n",
      "33600/33600 [==============================] - 0s - loss: 0.0844 - acc: 0.9826 - val_loss: 0.1878 - val_acc: 0.9668\n",
      "Epoch 47/100\n",
      "33600/33600 [==============================] - 0s - loss: 0.0812 - acc: 0.9829 - val_loss: 0.1837 - val_acc: 0.9656\n",
      "Epoch 48/100\n",
      "33600/33600 [==============================] - 0s - loss: 0.0817 - acc: 0.9826 - val_loss: 0.1854 - val_acc: 0.9669\n",
      "Epoch 49/100\n",
      "33600/33600 [==============================] - 0s - loss: 0.0796 - acc: 0.9837 - val_loss: 0.1869 - val_acc: 0.9668\n",
      "Epoch 50/100\n",
      "33600/33600 [==============================] - 0s - loss: 0.0784 - acc: 0.9825 - val_loss: 0.1966 - val_acc: 0.9652\n",
      "Epoch 51/100\n",
      "33600/33600 [==============================] - 0s - loss: 0.0757 - acc: 0.9847 - val_loss: 0.1870 - val_acc: 0.9668\n",
      "Epoch 52/100\n",
      "33600/33600 [==============================] - 0s - loss: 0.0737 - acc: 0.9849 - val_loss: 0.1809 - val_acc: 0.9660\n",
      "Epoch 53/100\n",
      "33600/33600 [==============================] - 0s - loss: 0.0719 - acc: 0.9849 - val_loss: 0.1823 - val_acc: 0.9660\n",
      "Epoch 54/100\n",
      "33600/33600 [==============================] - 0s - loss: 0.0707 - acc: 0.9858 - val_loss: 0.1775 - val_acc: 0.9675\n",
      "Epoch 55/100\n",
      "33600/33600 [==============================] - 0s - loss: 0.0704 - acc: 0.9856 - val_loss: 0.1796 - val_acc: 0.9671\n",
      "Epoch 56/100\n",
      "33600/33600 [==============================] - 0s - loss: 0.0696 - acc: 0.9852 - val_loss: 0.1739 - val_acc: 0.9671\n",
      "Epoch 57/100\n",
      "33600/33600 [==============================] - 0s - loss: 0.0693 - acc: 0.9857 - val_loss: 0.1756 - val_acc: 0.9670\n",
      "Epoch 58/100\n",
      "33600/33600 [==============================] - 0s - loss: 0.0663 - acc: 0.9863 - val_loss: 0.1794 - val_acc: 0.9676\n",
      "Epoch 59/100\n",
      "33600/33600 [==============================] - 0s - loss: 0.0670 - acc: 0.9868 - val_loss: 0.1761 - val_acc: 0.9670\n",
      "Epoch 60/100\n",
      "33600/33600 [==============================] - 0s - loss: 0.0650 - acc: 0.9865 - val_loss: 0.1754 - val_acc: 0.9685\n",
      "Epoch 61/100\n",
      "33600/33600 [==============================] - 0s - loss: 0.0635 - acc: 0.9874 - val_loss: 0.1792 - val_acc: 0.9683\n",
      "Epoch 62/100\n",
      "33600/33600 [==============================] - 0s - loss: 0.0625 - acc: 0.9869 - val_loss: 0.1802 - val_acc: 0.9677\n",
      "Epoch 63/100\n",
      "33600/33600 [==============================] - 0s - loss: 0.0624 - acc: 0.9874 - val_loss: 0.1829 - val_acc: 0.9675\n",
      "Epoch 64/100\n"
     ]
    },
    {
     "name": "stdout",
     "output_type": "stream",
     "text": [
      "33600/33600 [==============================] - 0s - loss: 0.0608 - acc: 0.9875 - val_loss: 0.1779 - val_acc: 0.9674\n",
      "Epoch 65/100\n",
      "33600/33600 [==============================] - 0s - loss: 0.0610 - acc: 0.9874 - val_loss: 0.1761 - val_acc: 0.9675\n",
      "Epoch 66/100\n",
      "33600/33600 [==============================] - 0s - loss: 0.0604 - acc: 0.9872 - val_loss: 0.1699 - val_acc: 0.9675\n",
      "Epoch 67/100\n",
      "33600/33600 [==============================] - 0s - loss: 0.0598 - acc: 0.9875 - val_loss: 0.1723 - val_acc: 0.9682\n",
      "Epoch 68/100\n",
      "33600/33600 [==============================] - 0s - loss: 0.0597 - acc: 0.9875 - val_loss: 0.1813 - val_acc: 0.9685\n",
      "Epoch 69/100\n",
      "33600/33600 [==============================] - 0s - loss: 0.0586 - acc: 0.9879 - val_loss: 0.1720 - val_acc: 0.9685\n",
      "Epoch 70/100\n",
      "33600/33600 [==============================] - 0s - loss: 0.0579 - acc: 0.9876 - val_loss: 0.1772 - val_acc: 0.9695\n",
      "Epoch 71/100\n",
      "33600/33600 [==============================] - 0s - loss: 0.0567 - acc: 0.9882 - val_loss: 0.1689 - val_acc: 0.9688\n",
      "Epoch 72/100\n",
      "33600/33600 [==============================] - 0s - loss: 0.0568 - acc: 0.9885 - val_loss: 0.1742 - val_acc: 0.9682\n",
      "Epoch 73/100\n",
      "33600/33600 [==============================] - 0s - loss: 0.0561 - acc: 0.9885 - val_loss: 0.1746 - val_acc: 0.9689\n",
      "Epoch 74/100\n",
      "33600/33600 [==============================] - 0s - loss: 0.0546 - acc: 0.9893 - val_loss: 0.1807 - val_acc: 0.9692\n",
      "Epoch 75/100\n",
      "33600/33600 [==============================] - 0s - loss: 0.0549 - acc: 0.9892 - val_loss: 0.1766 - val_acc: 0.9695\n",
      "Epoch 76/100\n",
      "33600/33600 [==============================] - 0s - loss: 0.0547 - acc: 0.9888 - val_loss: 0.1753 - val_acc: 0.9688\n",
      "Epoch 77/100\n",
      "33600/33600 [==============================] - 0s - loss: 0.0533 - acc: 0.9888 - val_loss: 0.1700 - val_acc: 0.9714\n",
      "Epoch 78/100\n",
      "33600/33600 [==============================] - 0s - loss: 0.0519 - acc: 0.9898 - val_loss: 0.1764 - val_acc: 0.9700\n",
      "Epoch 79/100\n",
      "33600/33600 [==============================] - 0s - loss: 0.0531 - acc: 0.9891 - val_loss: 0.1686 - val_acc: 0.9699\n",
      "Epoch 80/100\n",
      "33600/33600 [==============================] - 0s - loss: 0.0522 - acc: 0.9890 - val_loss: 0.1747 - val_acc: 0.9712\n",
      "Epoch 81/100\n",
      "33600/33600 [==============================] - 0s - loss: 0.0516 - acc: 0.9892 - val_loss: 0.1702 - val_acc: 0.9704\n",
      "Epoch 82/100\n",
      "33600/33600 [==============================] - 0s - loss: 0.0500 - acc: 0.9896 - val_loss: 0.1792 - val_acc: 0.9685\n",
      "Epoch 83/100\n",
      "33600/33600 [==============================] - 0s - loss: 0.0499 - acc: 0.9899 - val_loss: 0.1729 - val_acc: 0.9710\n",
      "Epoch 84/100\n",
      "33600/33600 [==============================] - 0s - loss: 0.0490 - acc: 0.9898 - val_loss: 0.1838 - val_acc: 0.9687\n",
      "Epoch 85/100\n",
      "33600/33600 [==============================] - 0s - loss: 0.0498 - acc: 0.9899 - val_loss: 0.1800 - val_acc: 0.9706\n",
      "Epoch 86/100\n",
      "33600/33600 [==============================] - 0s - loss: 0.0498 - acc: 0.9903 - val_loss: 0.1780 - val_acc: 0.9705\n",
      "Epoch 87/100\n",
      "33600/33600 [==============================] - 0s - loss: 0.0485 - acc: 0.9904 - val_loss: 0.1793 - val_acc: 0.9687\n",
      "Epoch 88/100\n",
      "33600/33600 [==============================] - 0s - loss: 0.0491 - acc: 0.9897 - val_loss: 0.1870 - val_acc: 0.9680\n",
      "Epoch 89/100\n",
      "33600/33600 [==============================] - 0s - loss: 0.0487 - acc: 0.9899 - val_loss: 0.1831 - val_acc: 0.9689\n",
      "Epoch 90/100\n",
      "33600/33600 [==============================] - 0s - loss: 0.0478 - acc: 0.9904 - val_loss: 0.1834 - val_acc: 0.9688\n",
      "Epoch 91/100\n",
      "33600/33600 [==============================] - 0s - loss: 0.0483 - acc: 0.9897 - val_loss: 0.1781 - val_acc: 0.9718\n",
      "Epoch 92/100\n",
      "33600/33600 [==============================] - 0s - loss: 0.0464 - acc: 0.9909 - val_loss: 0.1808 - val_acc: 0.9699\n",
      "Epoch 93/100\n",
      "33600/33600 [==============================] - 0s - loss: 0.0471 - acc: 0.9906 - val_loss: 0.1782 - val_acc: 0.9700\n",
      "Epoch 94/100\n",
      "33600/33600 [==============================] - 0s - loss: 0.0466 - acc: 0.9904 - val_loss: 0.1763 - val_acc: 0.9711\n",
      "Epoch 95/100\n",
      "33600/33600 [==============================] - 0s - loss: 0.0462 - acc: 0.9905 - val_loss: 0.1777 - val_acc: 0.9708\n",
      "Epoch 96/100\n",
      "33600/33600 [==============================] - 0s - loss: 0.0460 - acc: 0.9909 - val_loss: 0.1829 - val_acc: 0.9694\n",
      "Epoch 97/100\n",
      "33600/33600 [==============================] - 0s - loss: 0.0459 - acc: 0.9901 - val_loss: 0.1869 - val_acc: 0.9699\n",
      "Epoch 98/100\n",
      "33600/33600 [==============================] - 0s - loss: 0.0458 - acc: 0.9912 - val_loss: 0.1860 - val_acc: 0.9699\n",
      "Epoch 99/100\n",
      "33600/33600 [==============================] - 0s - loss: 0.0440 - acc: 0.9906 - val_loss: 0.1831 - val_acc: 0.9700\n",
      "Epoch 100/100\n",
      "33600/33600 [==============================] - 0s - loss: 0.0454 - acc: 0.9911 - val_loss: 0.1844 - val_acc: 0.9694\n"
     ]
    },
    {
     "data": {
      "text/plain": [
       "<keras.callbacks.History at 0x7f8bd28e3208>"
      ]
     },
     "execution_count": 23,
     "metadata": {},
     "output_type": "execute_result"
    }
   ],
   "source": [
    "model.fit(transform_train, y_train_labels, \n",
    "          batch_size=32, validation_split=0.2,\n",
    "          epochs=100)"
   ]
  },
  {
   "cell_type": "code",
   "execution_count": 26,
   "metadata": {},
   "outputs": [
    {
     "data": {
      "text/plain": [
       "(42000, 50)"
      ]
     },
     "execution_count": 26,
     "metadata": {},
     "output_type": "execute_result"
    }
   ],
   "source": [
    "transform_train.shape"
   ]
  },
  {
   "cell_type": "code",
   "execution_count": 27,
   "metadata": {},
   "outputs": [
    {
     "data": {
      "text/plain": [
       "(28000, 50)"
      ]
     },
     "execution_count": 27,
     "metadata": {},
     "output_type": "execute_result"
    }
   ],
   "source": [
    "transform_test.shape"
   ]
  },
  {
   "cell_type": "code",
   "execution_count": 28,
   "metadata": {
    "scrolled": true
   },
   "outputs": [
    {
     "name": "stdout",
     "output_type": "stream",
     "text": [
      "27520/28000 [============================>.] - ETA: 0s"
     ]
    }
   ],
   "source": [
    "pred_val = model.predict_classes(transform_test)"
   ]
  },
  {
   "cell_type": "code",
   "execution_count": 29,
   "metadata": {},
   "outputs": [
    {
     "data": {
      "image/png": "[encoded data removed]",
      "text/plain": [
       "<matplotlib.figure.Figure at 0x7f8bb20ba470>"
      ]
     },
     "metadata": {},
     "output_type": "display_data"
    }
   ],
   "source": [
    "fig = plt.figure(figsize=(20, 10))\n",
    "for i, img in enumerate(test_img[0:5], 1):\n",
    "    subplot = fig.add_subplot(1, 7, i)\n",
    "    plt.imshow(img, cmap='gray');\n",
    "    subplot.set_title('%s' % pred_val[i - 1]);"
   ]
  },
  {
   "cell_type": "code",
   "execution_count": 32,
   "metadata": {
    "collapsed": true
   },
   "outputs": [],
   "source": [
    "with open('results_nn.txt', 'w') as dst:\n",
    "    dst.write('ImageId,Label\\n')\n",
    "    for i, p in enumerate(pred_val, 1):\n",
    "        dst.write('%s,%s\\n' % (i, p))\n",
    "        \n",
    "        \n",
    "# Kaggle score 0.96871"
   ]
  },
  {
   "cell_type": "markdown",
   "metadata": {},
   "source": [
    "## Вычисляем X и Y составляющие градиента с помощью оператора Собеля"
   ]
  },
  {
   "cell_type": "code",
   "execution_count": 23,
   "metadata": {
    "collapsed": true
   },
   "outputs": [],
   "source": [
    "train_sobel_x = np.zeros_like(train_img)\n",
    "train_sobel_y = np.zeros_like(train_img)\n",
    "for i in range(len(train_img)):\n",
    "    train_sobel_x[i] = cv2.Sobel(train_img[i], cv2.CV_64F, dx=1, dy=0, ksize=3)\n",
    "    train_sobel_y[i] = cv2.Sobel(train_img[i], cv2.CV_64F, dx=0, dy=1, ksize=3)"
   ]
  },
  {
   "cell_type": "code",
   "execution_count": 24,
   "metadata": {
    "collapsed": true
   },
   "outputs": [],
   "source": [
    "test_sobel_x = np.zeros_like(test_img)\n",
    "test_sobel_y = np.zeros_like(test_img)\n",
    "for i in range(len(test_img)):\n",
    "    test_sobel_x[i] = cv2.Sobel(test_img[i], cv2.CV_64F, dx=1, dy=0, ksize=3)\n",
    "    test_sobel_y[i] = cv2.Sobel(test_img[i], cv2.CV_64F, dx=0, dy=1, ksize=3)"
   ]
  },
  {
   "cell_type": "markdown",
   "metadata": {},
   "source": [
    "## Вычисляем угол и длину вектора градиента"
   ]
  },
  {
   "cell_type": "code",
   "execution_count": 31,
   "metadata": {
    "collapsed": true
   },
   "outputs": [],
   "source": [
    "train_g, train_theta = cv2.cartToPolar(train_sobel_x, train_sobel_y)\n",
    "test_g, test_theta = cv2.cartToPolar(test_sobel_x, test_sobel_y)"
   ]
  },
  {
   "cell_type": "code",
   "execution_count": 27,
   "metadata": {},
   "outputs": [
    {
     "data": {
      "text/plain": [
       "(42000, 28, 28)"
      ]
     },
     "execution_count": 27,
     "metadata": {},
     "output_type": "execute_result"
    }
   ],
   "source": [
    "train_g.shape "
   ]
  },
  {
   "cell_type": "code",
   "execution_count": null,
   "metadata": {
    "collapsed": true
   },
   "outputs": [],
   "source": [
    "for i in [0,14]:\n",
    "    for j in [0,14]:\n",
    "        train_g_quat(i,j) = cv2.cartToPolar(\n",
    "            train_sobel_x(:, i:i+13, j:j+13),\n",
    "            train_sobel_x(:, i:i+13, j:j+13))\n",
    "        \n",
    "        test_g_quat(i,j) = cv2.cartToPolar(\n",
    "            test_sobel_x(:, i:i+13, j:j+13),\n",
    "            test_sobel_x(:, i:i+13, j:j+13))\n",
    "            "
   ]
  },
  {
   "cell_type": "code",
   "execution_count": 29,
   "metadata": {},
   "outputs": [
    {
     "data": {
      "text/plain": [
       "(42000, 28, 28)"
      ]
     },
     "execution_count": 29,
     "metadata": {},
     "output_type": "execute_result"
    }
   ],
   "source": [
    "train_sobel_x.shape"
   ]
  },
  {
   "cell_type": "code",
   "execution_count": 72,
   "metadata": {
    "collapsed": true
   },
   "outputs": [],
   "source": [
    "train_g_flatten =train_g.reshape(42000,-1) \n",
    "test_g_flatten =test_g.reshape(28000,-1) "
   ]
  },
  {
   "cell_type": "code",
   "execution_count": 73,
   "metadata": {},
   "outputs": [
    {
     "name": "stderr",
     "output_type": "stream",
     "text": [
      "C:\\Program Files\\Python36\\lib\\site-packages\\sklearn\\model_selection\\_split.py:2010: FutureWarning: From version 0.21, test_size will always complement train_size unless both are specified.\n",
      "  FutureWarning)\n"
     ]
    }
   ],
   "source": [
    "for i, n_components in enumerate(n_components_array):\n",
    "    pca = PCA(n_components=n_components)\n",
    "    pca.fit(train_g_flatten)\n",
    "    transform = pca.transform(train_g_flatten)\n",
    "    score_array[i] = evaluate_classifier(clf, transform, train_label, 0.8)"
   ]
  },
  {
   "cell_type": "code",
   "execution_count": 75,
   "metadata": {},
   "outputs": [
    {
     "data": {
      "image/png": "[encoded data removed]",
      "text/plain": [
       "<matplotlib.figure.Figure at 0x159b28d0>"
      ]
     },
     "metadata": {},
     "output_type": "display_data"
    }
   ],
   "source": [
    "plt.figure(figsize=(20,10))\n",
    "plt.plot(n_components_array,score_array,'k.-')\n",
    "plt.xscale('log')\n",
    "plt.xlabel(\"number of PCA components\", size=20)\n",
    "plt.ylabel(\"accuracy\", size=20)\n",
    "plt.grid(which=\"both\")"
   ]
  },
  {
   "cell_type": "code",
   "execution_count": 76,
   "metadata": {
    "collapsed": true
   },
   "outputs": [],
   "source": [
    "pca = PCA(n_components=100)\n",
    "pca.fit(train_g_flatten)\n",
    "transform_train = pca.transform(train_g_flatten)\n",
    "transform_test = pca.transform(test_g_flatten)\n",
    "\n",
    "clf = KNeighborsClassifier()\n",
    "clf.fit(transform_train,train_label)\n",
    "train_predictions=clf.predict(transform_train)\n",
    "results=clf.predict(transform_test)"
   ]
  },
  {
   "cell_type": "code",
   "execution_count": 77,
   "metadata": {
    "collapsed": true
   },
   "outputs": [],
   "source": [
    "np.savetxt('results.csv', \n",
    "           np.c_[range(1,len(transform_test)+1),results], \n",
    "           delimiter=',', \n",
    "           header = 'ImageId,Label', \n",
    "           comments = '', \n",
    "           fmt='%d')\n",
    "\n",
    "# Kaggle score 0.96914"
   ]
  }
 ],
 "metadata": {
  "kernelspec": {
   "display_name": "Python 3",
   "language": "python",
   "name": "python3"
  },
  "language_info": {
   "codemirror_mode": {
    "name": "ipython",
    "version": 3
   },
   "file_extension": ".py",
   "mimetype": "text/x-python",
   "name": "python",
   "nbconvert_exporter": "python",
   "pygments_lexer": "ipython3",
   "version": "3.6.2"
  }
 },
 "nbformat": 4,
 "nbformat_minor": 2
}
